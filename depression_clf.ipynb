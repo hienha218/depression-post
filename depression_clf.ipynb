{
 "cells": [
  {
   "cell_type": "code",
   "execution_count": 2,
   "id": "0046be03",
   "metadata": {},
   "outputs": [],
   "source": [
    "import numpy as np\n",
    "import pandas as pd\n",
    "import matplotlib.pyplot as plt\n",
    "from collections import Counter\n",
    "from sklearn import feature_extraction, model_selection, naive_bayes, metrics, svm"
   ]
  },
  {
   "cell_type": "code",
   "execution_count": 3,
   "id": "88694996",
   "metadata": {},
   "outputs": [
    {
     "data": {
      "text/html": [
       "<div>\n",
       "<style scoped>\n",
       "    .dataframe tbody tr th:only-of-type {\n",
       "        vertical-align: middle;\n",
       "    }\n",
       "\n",
       "    .dataframe tbody tr th {\n",
       "        vertical-align: top;\n",
       "    }\n",
       "\n",
       "    .dataframe thead th {\n",
       "        text-align: right;\n",
       "    }\n",
       "</style>\n",
       "<table border=\"1\" class=\"dataframe\">\n",
       "  <thead>\n",
       "    <tr style=\"text-align: right;\">\n",
       "      <th></th>\n",
       "      <th>text</th>\n",
       "      <th>depression</th>\n",
       "    </tr>\n",
       "  </thead>\n",
       "  <tbody>\n",
       "    <tr>\n",
       "      <th>0</th>\n",
       "      <td>we understand that most people who reply immed...</td>\n",
       "      <td>1</td>\n",
       "    </tr>\n",
       "    <tr>\n",
       "      <th>1</th>\n",
       "      <td>welcome to r depression s check in post a plac...</td>\n",
       "      <td>1</td>\n",
       "    </tr>\n",
       "    <tr>\n",
       "      <th>2</th>\n",
       "      <td>anyone else instead of sleeping more when depr...</td>\n",
       "      <td>1</td>\n",
       "    </tr>\n",
       "    <tr>\n",
       "      <th>3</th>\n",
       "      <td>i ve kind of stuffed around a lot in my life d...</td>\n",
       "      <td>1</td>\n",
       "    </tr>\n",
       "    <tr>\n",
       "      <th>4</th>\n",
       "      <td>sleep is my greatest and most comforting escap...</td>\n",
       "      <td>1</td>\n",
       "    </tr>\n",
       "    <tr>\n",
       "      <th>...</th>\n",
       "      <td>...</td>\n",
       "      <td>...</td>\n",
       "    </tr>\n",
       "    <tr>\n",
       "      <th>7726</th>\n",
       "      <td>is that snow</td>\n",
       "      <td>0</td>\n",
       "    </tr>\n",
       "    <tr>\n",
       "      <th>7727</th>\n",
       "      <td>moulin rouge mad me cry once again</td>\n",
       "      <td>0</td>\n",
       "    </tr>\n",
       "    <tr>\n",
       "      <th>7728</th>\n",
       "      <td>trying to shout but can t find people on the list</td>\n",
       "      <td>0</td>\n",
       "    </tr>\n",
       "    <tr>\n",
       "      <th>7729</th>\n",
       "      <td>ughh can t find my red sox hat got ta wear thi...</td>\n",
       "      <td>0</td>\n",
       "    </tr>\n",
       "    <tr>\n",
       "      <th>7730</th>\n",
       "      <td>slept wonderfully finally tried swatching for ...</td>\n",
       "      <td>0</td>\n",
       "    </tr>\n",
       "  </tbody>\n",
       "</table>\n",
       "<p>7731 rows × 2 columns</p>\n",
       "</div>"
      ],
      "text/plain": [
       "                                                   text  depression\n",
       "0     we understand that most people who reply immed...           1\n",
       "1     welcome to r depression s check in post a plac...           1\n",
       "2     anyone else instead of sleeping more when depr...           1\n",
       "3     i ve kind of stuffed around a lot in my life d...           1\n",
       "4     sleep is my greatest and most comforting escap...           1\n",
       "...                                                 ...         ...\n",
       "7726                                       is that snow           0\n",
       "7727                 moulin rouge mad me cry once again           0\n",
       "7728  trying to shout but can t find people on the list           0\n",
       "7729  ughh can t find my red sox hat got ta wear thi...           0\n",
       "7730  slept wonderfully finally tried swatching for ...           0\n",
       "\n",
       "[7731 rows x 2 columns]"
      ]
     },
     "execution_count": 3,
     "metadata": {},
     "output_type": "execute_result"
    }
   ],
   "source": [
    "data = pd.read_csv(\"depression_dataset_reddit_cleaned.csv\")\n",
    "data.rename({'clean_text':'text', 'is_depression':'depression'}, axis='columns', inplace=True)\n",
    "data"
   ]
  },
  {
   "cell_type": "code",
   "execution_count": 4,
   "id": "abeb65eb",
   "metadata": {},
   "outputs": [
    {
     "data": {
      "text/plain": [
       "text          object\n",
       "depression     int64\n",
       "dtype: object"
      ]
     },
     "execution_count": 4,
     "metadata": {},
     "output_type": "execute_result"
    }
   ],
   "source": [
    "data.dtypes"
   ]
  },
  {
   "cell_type": "code",
   "execution_count": 5,
   "id": "279901b0",
   "metadata": {
    "scrolled": true
   },
   "outputs": [
    {
     "data": {
      "image/png": "[encoded data removed]",
      "text/plain": [
       "<Figure size 432x288 with 1 Axes>"
      ]
     },
     "metadata": {},
     "output_type": "display_data"
    }
   ],
   "source": [
    "# see data distributions\n",
    "count_Class = pd.value_counts(data[\"depression\"], sort= True)\n",
    "count_Class.plot(kind = 'pie',  autopct='%1.0f%%')\n",
    "plt.title('Pie chart')\n",
    "plt.show()"
   ]
  },
  {
   "cell_type": "code",
   "execution_count": 6,
   "id": "bf442efd",
   "metadata": {},
   "outputs": [],
   "source": [
    "count1 = Counter(\" \".join(data[data['depression']==0][\"text\"]).split()).most_common(30)\n",
    "df1 = pd.DataFrame.from_dict(count1)\n",
    "df1 = df1.rename(columns={0: \"words in non-spam\", 1 : \"count\"})\n",
    "count2 = Counter(\" \".join(data[data['depression']==1][\"text\"]).split()).most_common(30)\n",
    "df2 = pd.DataFrame.from_dict(count2)\n",
    "df2 = df2.rename(columns={0: \"words in spam\", 1 : \"count_\"})"
   ]
  },
  {
   "cell_type": "code",
   "execution_count": 28,
   "id": "8a1da78e",
   "metadata": {},
   "outputs": [
    {
     "data": {
      "image/png": "[encoded data removed]",
      "text/plain": [
       "<Figure size 720x504 with 1 Axes>"
      ]
     },
     "metadata": {
      "needs_background": "light"
     },
     "output_type": "display_data"
    }
   ],
   "source": [
    "df1.plot.bar(legend = False)\n",
    "y_pos = np.arange(len(df1[\"words in non-spam\"]))\n",
    "plt.rcParams[\"figure.figsize\"]=10,7\n",
    "plt.rcParams[\"font.size\"]=22\n",
    "plt.rc('xtick', labelsize=18) \n",
    "plt.rc('ytick', labelsize=18) \n",
    "plt.xticks(y_pos, df1[\"words in non-spam\"])\n",
    "plt.title('Most frequent words in non-depression posts')\n",
    "plt.xlabel('words')\n",
    "plt.ylabel('number')\n",
    "plt.show()"
   ]
  },
  {
   "cell_type": "code",
   "execution_count": null,
   "id": "e0718523",
   "metadata": {},
   "outputs": [],
   "source": []
  },
  {
   "cell_type": "code",
   "execution_count": 27,
   "id": "3751ef25",
   "metadata": {},
   "outputs": [
    {
     "data": {
      "image/png": "[encoded data removed]",
      "text/plain": [
       "<Figure size 720x504 with 1 Axes>"
      ]
     },
     "metadata": {
      "needs_background": "light"
     },
     "output_type": "display_data"
    }
   ],
   "source": [
    "df2.plot.bar(legend = False, color = 'orange')\n",
    "y_pos = np.arange(len(df2[\"words in spam\"]))\n",
    "plt.rcParams[\"figure.figsize\"]=10,7\n",
    "plt.rcParams[\"font.size\"]=22\n",
    "plt.rc('xtick', labelsize=18) \n",
    "plt.rc('ytick', labelsize=18) \n",
    "plt.xticks(y_pos, df2[\"words in spam\"])\n",
    "plt.title('Most frequent words in depression posts')\n",
    "plt.xlabel('words')\n",
    "plt.ylabel('number')\n",
    "plt.show()"
   ]
  },
  {
   "cell_type": "code",
   "execution_count": 29,
   "id": "3664796c",
   "metadata": {},
   "outputs": [
    {
     "data": {
      "text/plain": [
       "(7731, 18529)"
      ]
     },
     "execution_count": 29,
     "metadata": {},
     "output_type": "execute_result"
    }
   ],
   "source": [
    "from sklearn.feature_extraction import text\n",
    "# remove stop words (and some extras floating letters because the cleaned dataset got rid of punctuations)\n",
    "# tokenize each text block and get a matrix of token count\n",
    "stop_words = text.ENGLISH_STOP_WORDS.union(\"wa\", \"didn\",\"t\", \"m\", \"s\", \"don\", \"ve\")\n",
    "f = feature_extraction.text.CountVectorizer(stop_words=stop_words)\n",
    "X = f.fit_transform(data['text'])\n",
    "np.shape(X)"
   ]
  },
  {
   "cell_type": "code",
   "execution_count": 208,
   "id": "ea669bec",
   "metadata": {},
   "outputs": [],
   "source": [
    "# randomly split into training dataset (80%) and test dataset (20%)\n",
    "X_train, X_test, y_train, y_test = model_selection.train_test_split(X, data['depression'], test_size=0.2, random_state=42)\n",
    "# randomly split the training dataset into training (60%) and validation dataset (20%)\n",
    "X_train, X_val, y_train, y_val = train_test_split(X_train, y_train, test_size=0.25, random_state=42)"
   ]
  },
  {
   "cell_type": "markdown",
   "id": "a411c077",
   "metadata": {},
   "source": [
    "## Naive Bayes"
   ]
  },
  {
   "cell_type": "code",
   "execution_count": 209,
   "id": "e5946c0e",
   "metadata": {},
   "outputs": [],
   "source": [
    "# Multinomial NB of sklearn have alpha value to handle words that does not exist in the training dataset\n",
    "# Similar to SVM, I just plug in various alpha values to train then determine which model is the most robust\n",
    "list_alpha = np.arange(0.01, 20, 0.10)\n",
    "score_train = np.zeros(len(list_alpha))\n",
    "score_val = np.zeros(len(list_alpha))\n",
    "count = 0\n",
    "for alpha in list_alpha:\n",
    "    bayes = naive_bayes.MultinomialNB(alpha=alpha)\n",
    "    bayes.fit(X_train, y_train)\n",
    "    score_train[count] = bayes.score(X_train, y_train)\n",
    "    score_val[count]= bayes.score(X_val, y_val)\n",
    "    count = count + 1 "
   ]
  },
  {
   "cell_type": "code",
   "execution_count": 210,
   "id": "a125afdd",
   "metadata": {},
   "outputs": [
    {
     "data": {
      "text/html": [
       "<div>\n",
       "<style scoped>\n",
       "    .dataframe tbody tr th:only-of-type {\n",
       "        vertical-align: middle;\n",
       "    }\n",
       "\n",
       "    .dataframe tbody tr th {\n",
       "        vertical-align: top;\n",
       "    }\n",
       "\n",
       "    .dataframe thead th {\n",
       "        text-align: right;\n",
       "    }\n",
       "</style>\n",
       "<table border=\"1\" class=\"dataframe\">\n",
       "  <thead>\n",
       "    <tr style=\"text-align: right;\">\n",
       "      <th></th>\n",
       "      <th>alpha</th>\n",
       "      <th>Train Accuracy</th>\n",
       "      <th>Validation Accuracy</th>\n",
       "    </tr>\n",
       "  </thead>\n",
       "  <tbody>\n",
       "    <tr>\n",
       "      <th>0</th>\n",
       "      <td>0.01</td>\n",
       "      <td>0.982104</td>\n",
       "      <td>0.893273</td>\n",
       "    </tr>\n",
       "    <tr>\n",
       "      <th>1</th>\n",
       "      <td>0.11</td>\n",
       "      <td>0.978008</td>\n",
       "      <td>0.902329</td>\n",
       "    </tr>\n",
       "    <tr>\n",
       "      <th>2</th>\n",
       "      <td>0.21</td>\n",
       "      <td>0.972833</td>\n",
       "      <td>0.898448</td>\n",
       "    </tr>\n",
       "    <tr>\n",
       "      <th>3</th>\n",
       "      <td>0.31</td>\n",
       "      <td>0.965071</td>\n",
       "      <td>0.891332</td>\n",
       "    </tr>\n",
       "    <tr>\n",
       "      <th>4</th>\n",
       "      <td>0.41</td>\n",
       "      <td>0.959465</td>\n",
       "      <td>0.884864</td>\n",
       "    </tr>\n",
       "    <tr>\n",
       "      <th>5</th>\n",
       "      <td>0.51</td>\n",
       "      <td>0.952350</td>\n",
       "      <td>0.878396</td>\n",
       "    </tr>\n",
       "    <tr>\n",
       "      <th>6</th>\n",
       "      <td>0.61</td>\n",
       "      <td>0.943079</td>\n",
       "      <td>0.868693</td>\n",
       "    </tr>\n",
       "    <tr>\n",
       "      <th>7</th>\n",
       "      <td>0.71</td>\n",
       "      <td>0.934023</td>\n",
       "      <td>0.862225</td>\n",
       "    </tr>\n",
       "    <tr>\n",
       "      <th>8</th>\n",
       "      <td>0.81</td>\n",
       "      <td>0.924752</td>\n",
       "      <td>0.853169</td>\n",
       "    </tr>\n",
       "    <tr>\n",
       "      <th>9</th>\n",
       "      <td>0.91</td>\n",
       "      <td>0.918068</td>\n",
       "      <td>0.841527</td>\n",
       "    </tr>\n",
       "  </tbody>\n",
       "</table>\n",
       "</div>"
      ],
      "text/plain": [
       "   alpha  Train Accuracy  Validation Accuracy\n",
       "0   0.01        0.982104             0.893273\n",
       "1   0.11        0.978008             0.902329\n",
       "2   0.21        0.972833             0.898448\n",
       "3   0.31        0.965071             0.891332\n",
       "4   0.41        0.959465             0.884864\n",
       "5   0.51        0.952350             0.878396\n",
       "6   0.61        0.943079             0.868693\n",
       "7   0.71        0.934023             0.862225\n",
       "8   0.81        0.924752             0.853169\n",
       "9   0.91        0.918068             0.841527"
      ]
     },
     "execution_count": 210,
     "metadata": {},
     "output_type": "execute_result"
    }
   ],
   "source": [
    "matrix = np.matrix(np.c_[list_alpha, score_train, score_val])\n",
    "models = pd.DataFrame(data = matrix, columns = \n",
    "             ['alpha', 'Train Accuracy', 'Validation Accuracy'])\n",
    "models.head(n=10)"
   ]
  },
  {
   "cell_type": "code",
   "execution_count": 211,
   "id": "c2373dc5",
   "metadata": {},
   "outputs": [],
   "source": [
    "# choose the model with the highest validation accuracy point (chosen alpha=0.11)\n",
    "best_index = models['Validation Accuracy'].idxmax()\n",
    "alpha = models.iloc[best_index, :][0]"
   ]
  },
  {
   "cell_type": "code",
   "execution_count": 212,
   "id": "12923ab2",
   "metadata": {},
   "outputs": [
    {
     "data": {
      "text/html": [
       "<div>\n",
       "<style scoped>\n",
       "    .dataframe tbody tr th:only-of-type {\n",
       "        vertical-align: middle;\n",
       "    }\n",
       "\n",
       "    .dataframe tbody tr th {\n",
       "        vertical-align: top;\n",
       "    }\n",
       "\n",
       "    .dataframe thead th {\n",
       "        text-align: right;\n",
       "    }\n",
       "</style>\n",
       "<table border=\"1\" class=\"dataframe\">\n",
       "  <thead>\n",
       "    <tr style=\"text-align: right;\">\n",
       "      <th></th>\n",
       "      <th>Predicted 0</th>\n",
       "      <th>Predicted 1</th>\n",
       "    </tr>\n",
       "  </thead>\n",
       "  <tbody>\n",
       "    <tr>\n",
       "      <th>Actual 0</th>\n",
       "      <td>679</td>\n",
       "      <td>104</td>\n",
       "    </tr>\n",
       "    <tr>\n",
       "      <th>Actual 1</th>\n",
       "      <td>28</td>\n",
       "      <td>736</td>\n",
       "    </tr>\n",
       "  </tbody>\n",
       "</table>\n",
       "</div>"
      ],
      "text/plain": [
       "          Predicted 0  Predicted 1\n",
       "Actual 0          679          104\n",
       "Actual 1           28          736"
      ]
     },
     "metadata": {},
     "output_type": "display_data"
    },
    {
     "name": "stdout",
     "output_type": "stream",
     "text": [
      "Correctly identified 86.71775223499361 % of non-depression posts.\n",
      "Correctly identified 96.33507853403141 % of depression posts.\n"
     ]
    }
   ],
   "source": [
    "# build the model with the chosen alpha value\n",
    "bayes = naive_bayes.MultinomialNB(alpha=alpha)\n",
    "bayes.fit(X_train, y_train)\n",
    "# detailed results when use on test dataset\n",
    "m_confusion_test = metrics.confusion_matrix(y_test, bayes.predict(X_test))\n",
    "display(pd.DataFrame(data = m_confusion_test, columns = ['Predicted 0', 'Predicted 1'], index = ['Actual 0', 'Actual 1']))\n",
    "print(\"Correctly identified\",(679/(679+104))*100, \"% of non-depression posts.\")\n",
    "print(\"Correctly identified\",(736/(28+736))*100, \"% of depression posts.\")"
   ]
  },
  {
   "cell_type": "markdown",
   "id": "471cd515",
   "metadata": {},
   "source": [
    "## SVM"
   ]
  },
  {
   "cell_type": "code",
   "execution_count": 213,
   "id": "b0e6e9fc",
   "metadata": {},
   "outputs": [],
   "source": [
    "# By default, scikit's SVC uses radial basis function (RBF) kernel, C=1.0 and it gave really good results\n",
    "# so I just test different C values to see if it can get any better\n",
    "list_C = np.arange(1, 100, 10)\n",
    "score_train = np.zeros(len(list_C))\n",
    "score_val = np.zeros(len(list_C))\n",
    "count = 0\n",
    "# train various models with different Cs then test on the validation dataset\n",
    "for C in list_C:\n",
    "    svc = svm.SVC(C=C)\n",
    "    svc.fit(X_train, y_train)\n",
    "    score_train[count] = svc.score(X_train, y_train)\n",
    "    score_val[count]= svc.score(X_val, y_val)\n",
    "    count = count + 1"
   ]
  },
  {
   "cell_type": "code",
   "execution_count": 214,
   "id": "508f7c3c",
   "metadata": {},
   "outputs": [
    {
     "data": {
      "text/html": [
       "<div>\n",
       "<style scoped>\n",
       "    .dataframe tbody tr th:only-of-type {\n",
       "        vertical-align: middle;\n",
       "    }\n",
       "\n",
       "    .dataframe tbody tr th {\n",
       "        vertical-align: top;\n",
       "    }\n",
       "\n",
       "    .dataframe thead th {\n",
       "        text-align: right;\n",
       "    }\n",
       "</style>\n",
       "<table border=\"1\" class=\"dataframe\">\n",
       "  <thead>\n",
       "    <tr style=\"text-align: right;\">\n",
       "      <th></th>\n",
       "      <th>C</th>\n",
       "      <th>Train Accuracy</th>\n",
       "      <th>Validation Accuracy</th>\n",
       "    </tr>\n",
       "  </thead>\n",
       "  <tbody>\n",
       "    <tr>\n",
       "      <th>0</th>\n",
       "      <td>1.0</td>\n",
       "      <td>0.966365</td>\n",
       "      <td>0.954722</td>\n",
       "    </tr>\n",
       "    <tr>\n",
       "      <th>1</th>\n",
       "      <td>11.0</td>\n",
       "      <td>0.991160</td>\n",
       "      <td>0.967012</td>\n",
       "    </tr>\n",
       "    <tr>\n",
       "      <th>2</th>\n",
       "      <td>21.0</td>\n",
       "      <td>0.995257</td>\n",
       "      <td>0.963131</td>\n",
       "    </tr>\n",
       "    <tr>\n",
       "      <th>3</th>\n",
       "      <td>31.0</td>\n",
       "      <td>0.995472</td>\n",
       "      <td>0.957956</td>\n",
       "    </tr>\n",
       "    <tr>\n",
       "      <th>4</th>\n",
       "      <td>41.0</td>\n",
       "      <td>0.996766</td>\n",
       "      <td>0.956016</td>\n",
       "    </tr>\n",
       "    <tr>\n",
       "      <th>5</th>\n",
       "      <td>51.0</td>\n",
       "      <td>0.997413</td>\n",
       "      <td>0.955369</td>\n",
       "    </tr>\n",
       "    <tr>\n",
       "      <th>6</th>\n",
       "      <td>61.0</td>\n",
       "      <td>0.997413</td>\n",
       "      <td>0.952135</td>\n",
       "    </tr>\n",
       "    <tr>\n",
       "      <th>7</th>\n",
       "      <td>71.0</td>\n",
       "      <td>0.997413</td>\n",
       "      <td>0.949547</td>\n",
       "    </tr>\n",
       "    <tr>\n",
       "      <th>8</th>\n",
       "      <td>81.0</td>\n",
       "      <td>0.997844</td>\n",
       "      <td>0.950194</td>\n",
       "    </tr>\n",
       "    <tr>\n",
       "      <th>9</th>\n",
       "      <td>91.0</td>\n",
       "      <td>0.998275</td>\n",
       "      <td>0.948254</td>\n",
       "    </tr>\n",
       "  </tbody>\n",
       "</table>\n",
       "</div>"
      ],
      "text/plain": [
       "      C  Train Accuracy  Validation Accuracy\n",
       "0   1.0        0.966365             0.954722\n",
       "1  11.0        0.991160             0.967012\n",
       "2  21.0        0.995257             0.963131\n",
       "3  31.0        0.995472             0.957956\n",
       "4  41.0        0.996766             0.956016\n",
       "5  51.0        0.997413             0.955369\n",
       "6  61.0        0.997413             0.952135\n",
       "7  71.0        0.997413             0.949547\n",
       "8  81.0        0.997844             0.950194\n",
       "9  91.0        0.998275             0.948254"
      ]
     },
     "execution_count": 214,
     "metadata": {},
     "output_type": "execute_result"
    }
   ],
   "source": [
    "# show models' accuracy scores\n",
    "matrix = np.matrix(np.c_[list_C, score_train, score_val])\n",
    "models = pd.DataFrame(data = matrix, columns = ['C', 'Train Accuracy', 'Validation Accuracy'])\n",
    "models.head(n=10)"
   ]
  },
  {
   "cell_type": "code",
   "execution_count": 215,
   "id": "bdcf1083",
   "metadata": {},
   "outputs": [],
   "source": [
    "# choose the model with the highest test accuracy score (the best C=11)\n",
    "best_index = models['Validation Accuracy'].idxmax()\n",
    "C = models.iloc[best_index, :][0]"
   ]
  },
  {
   "cell_type": "code",
   "execution_count": 216,
   "id": "6b8a5f47",
   "metadata": {},
   "outputs": [
    {
     "data": {
      "text/html": [
       "<div>\n",
       "<style scoped>\n",
       "    .dataframe tbody tr th:only-of-type {\n",
       "        vertical-align: middle;\n",
       "    }\n",
       "\n",
       "    .dataframe tbody tr th {\n",
       "        vertical-align: top;\n",
       "    }\n",
       "\n",
       "    .dataframe thead th {\n",
       "        text-align: right;\n",
       "    }\n",
       "</style>\n",
       "<table border=\"1\" class=\"dataframe\">\n",
       "  <thead>\n",
       "    <tr style=\"text-align: right;\">\n",
       "      <th></th>\n",
       "      <th>Predicted 0</th>\n",
       "      <th>Predicted 1</th>\n",
       "    </tr>\n",
       "  </thead>\n",
       "  <tbody>\n",
       "    <tr>\n",
       "      <th>Actual 0</th>\n",
       "      <td>771</td>\n",
       "      <td>12</td>\n",
       "    </tr>\n",
       "    <tr>\n",
       "      <th>Actual 1</th>\n",
       "      <td>59</td>\n",
       "      <td>705</td>\n",
       "    </tr>\n",
       "  </tbody>\n",
       "</table>\n",
       "</div>"
      ],
      "text/plain": [
       "          Predicted 0  Predicted 1\n",
       "Actual 0          771           12\n",
       "Actual 1           59          705"
      ]
     },
     "metadata": {},
     "output_type": "display_data"
    },
    {
     "name": "stdout",
     "output_type": "stream",
     "text": [
      "Correctly identified 98.46743295019157 % of non-depression posts.\n",
      "Correctly identified 92.27748691099477 % of depression posts.\n"
     ]
    }
   ],
   "source": [
    "# build the model with the best C value\n",
    "svc = svm.SVC(C=C)\n",
    "svc.fit(X_train, y_train)\n",
    "# show details of the prediction from the chosen model\n",
    "m_confusion_test = metrics.confusion_matrix(y_test, svc.predict(X_test))\n",
    "display(pd.DataFrame(data = m_confusion_test, columns = ['Predicted 0', 'Predicted 1'], index = ['Actual 0', 'Actual 1']))\n",
    "\n",
    "# these rates are hard-coded, but they should not change unless you change the random_state values above\n",
    "print(\"Correctly identified\",(771/(771+12))*100, \"% of non-depression posts.\")\n",
    "print(\"Correctly identified\",(705/(59+705))*100, \"% of depression posts.\")"
   ]
  },
  {
   "cell_type": "code",
   "execution_count": null,
   "id": "c0e2bb84",
   "metadata": {},
   "outputs": [],
   "source": []
  },
  {
   "cell_type": "code",
   "execution_count": null,
   "id": "944df2bf",
   "metadata": {},
   "outputs": [],
   "source": []
  }
 ],
 "metadata": {
  "kernelspec": {
   "display_name": "Python 3 (ipykernel)",
   "language": "python",
   "name": "python3"
  },
  "language_info": {
   "codemirror_mode": {
    "name": "ipython",
    "version": 3
   },
   "file_extension": ".py",
   "mimetype": "text/x-python",
   "name": "python",
   "nbconvert_exporter": "python",
   "pygments_lexer": "ipython3",
   "version": "3.9.12"
  },
  "vscode": {
   "interpreter": {
    "hash": "2dec5007d2e2c874c4637e777f89f31c4a5ea53edff4021d0b57a3f8665ab796"
   }
  }
 },
 "nbformat": 4,
 "nbformat_minor": 5
}
